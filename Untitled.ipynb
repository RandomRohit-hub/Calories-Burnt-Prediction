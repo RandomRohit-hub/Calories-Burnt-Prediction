{
 "cells": [
  {
   "cell_type": "code",
   "execution_count": 10,
   "id": "ab0eee80-4cdf-4436-8ca9-c44117a26012",
   "metadata": {},
   "outputs": [
    {
     "name": "stdout",
     "output_type": "stream",
     "text": [
      "Collecting xgboost\n",
      "  Downloading xgboost-3.0.0-py3-none-win_amd64.whl.metadata (2.1 kB)\n",
      "Requirement already satisfied: numpy in c:\\users\\fakee\\anaconda3\\lib\\site-packages (from xgboost) (1.26.4)\n",
      "Requirement already satisfied: scipy in c:\\users\\fakee\\anaconda3\\lib\\site-packages (from xgboost) (1.13.1)\n",
      "Downloading xgboost-3.0.0-py3-none-win_amd64.whl (150.0 MB)\n",
      "   ---------------------------------------- 0.0/150.0 MB ? eta -:--:--\n",
      "   ---------------------------------------- 0.0/150.0 MB ? eta -:--:--\n",
      "   ---------------------------------------- 0.5/150.0 MB 2.1 MB/s eta 0:01:12\n",
      "   ---------------------------------------- 1.0/150.0 MB 2.3 MB/s eta 0:01:05\n",
      "   ---------------------------------------- 1.8/150.0 MB 2.7 MB/s eta 0:00:55\n",
      "    --------------------------------------- 2.6/150.0 MB 3.0 MB/s eta 0:00:50\n",
      "    --------------------------------------- 3.1/150.0 MB 2.9 MB/s eta 0:00:51\n",
      "   - -------------------------------------- 3.9/150.0 MB 3.1 MB/s eta 0:00:48\n",
      "   - -------------------------------------- 5.0/150.0 MB 3.2 MB/s eta 0:00:46\n",
      "   - -------------------------------------- 5.8/150.0 MB 3.3 MB/s eta 0:00:44\n",
      "   - -------------------------------------- 6.8/150.0 MB 3.5 MB/s eta 0:00:41\n",
      "   -- ------------------------------------- 7.9/150.0 MB 3.6 MB/s eta 0:00:40\n",
      "   -- ------------------------------------- 9.2/150.0 MB 3.8 MB/s eta 0:00:37\n",
      "   -- ------------------------------------- 10.2/150.0 MB 4.0 MB/s eta 0:00:36\n",
      "   --- ------------------------------------ 11.5/150.0 MB 4.1 MB/s eta 0:00:34\n",
      "   --- ------------------------------------ 13.1/150.0 MB 4.4 MB/s eta 0:00:32\n",
      "   --- ------------------------------------ 14.7/150.0 MB 4.6 MB/s eta 0:00:30\n",
      "   ---- ----------------------------------- 16.3/150.0 MB 4.7 MB/s eta 0:00:29\n",
      "   ---- ----------------------------------- 17.6/150.0 MB 4.8 MB/s eta 0:00:28\n",
      "   ----- ---------------------------------- 19.1/150.0 MB 5.0 MB/s eta 0:00:27\n",
      "   ----- ---------------------------------- 20.7/150.0 MB 5.1 MB/s eta 0:00:26\n",
      "   ------ --------------------------------- 22.8/150.0 MB 5.3 MB/s eta 0:00:24\n",
      "   ------ --------------------------------- 24.4/150.0 MB 5.5 MB/s eta 0:00:24\n",
      "   ------ --------------------------------- 26.2/150.0 MB 5.6 MB/s eta 0:00:23\n",
      "   ------- -------------------------------- 28.0/150.0 MB 5.7 MB/s eta 0:00:22\n",
      "   -------- ------------------------------- 30.1/150.0 MB 5.9 MB/s eta 0:00:21\n",
      "   -------- ------------------------------- 32.5/150.0 MB 6.1 MB/s eta 0:00:20\n",
      "   --------- ------------------------------ 34.9/150.0 MB 6.3 MB/s eta 0:00:19\n",
      "   --------- ------------------------------ 37.2/150.0 MB 6.5 MB/s eta 0:00:18\n",
      "   ---------- ----------------------------- 39.8/150.0 MB 6.7 MB/s eta 0:00:17\n",
      "   ----------- ---------------------------- 42.5/150.0 MB 6.9 MB/s eta 0:00:16\n",
      "   ----------- ---------------------------- 44.8/150.0 MB 7.0 MB/s eta 0:00:16\n",
      "   ------------ --------------------------- 46.9/150.0 MB 7.1 MB/s eta 0:00:15\n",
      "   ------------- -------------------------- 49.0/150.0 MB 7.2 MB/s eta 0:00:15\n",
      "   ------------- -------------------------- 51.1/150.0 MB 7.3 MB/s eta 0:00:14\n",
      "   -------------- ------------------------- 53.0/150.0 MB 7.3 MB/s eta 0:00:14\n",
      "   -------------- ------------------------- 55.1/150.0 MB 7.4 MB/s eta 0:00:13\n",
      "   --------------- ------------------------ 56.9/150.0 MB 7.5 MB/s eta 0:00:13\n",
      "   --------------- ------------------------ 59.0/150.0 MB 7.5 MB/s eta 0:00:13\n",
      "   ---------------- ----------------------- 61.1/150.0 MB 7.6 MB/s eta 0:00:12\n",
      "   ---------------- ----------------------- 62.9/150.0 MB 7.6 MB/s eta 0:00:12\n",
      "   ----------------- ---------------------- 65.0/150.0 MB 7.7 MB/s eta 0:00:12\n",
      "   ----------------- ---------------------- 67.1/150.0 MB 7.7 MB/s eta 0:00:11\n",
      "   ------------------ --------------------- 69.2/150.0 MB 7.8 MB/s eta 0:00:11\n",
      "   ------------------- -------------------- 71.3/150.0 MB 7.8 MB/s eta 0:00:11\n",
      "   ------------------- -------------------- 73.4/150.0 MB 7.9 MB/s eta 0:00:10\n",
      "   -------------------- ------------------- 75.5/150.0 MB 7.9 MB/s eta 0:00:10\n",
      "   -------------------- ------------------- 77.6/150.0 MB 8.0 MB/s eta 0:00:10\n",
      "   --------------------- ------------------ 79.4/150.0 MB 8.0 MB/s eta 0:00:09\n",
      "   --------------------- ------------------ 81.5/150.0 MB 8.1 MB/s eta 0:00:09\n",
      "   ---------------------- ----------------- 83.6/150.0 MB 8.1 MB/s eta 0:00:09\n",
      "   ---------------------- ----------------- 85.5/150.0 MB 8.1 MB/s eta 0:00:08\n",
      "   ----------------------- ---------------- 87.6/150.0 MB 8.1 MB/s eta 0:00:08\n",
      "   ----------------------- ---------------- 89.7/150.0 MB 8.2 MB/s eta 0:00:08\n",
      "   ------------------------ --------------- 91.8/150.0 MB 8.2 MB/s eta 0:00:08\n",
      "   ------------------------ --------------- 93.6/150.0 MB 8.2 MB/s eta 0:00:07\n",
      "   ------------------------- -------------- 95.7/150.0 MB 8.3 MB/s eta 0:00:07\n",
      "   -------------------------- ------------- 97.8/150.0 MB 8.3 MB/s eta 0:00:07\n",
      "   -------------------------- ------------- 99.6/150.0 MB 8.3 MB/s eta 0:00:07\n",
      "   --------------------------- ------------ 101.7/150.0 MB 8.3 MB/s eta 0:00:06\n",
      "   --------------------------- ------------ 103.8/150.0 MB 8.4 MB/s eta 0:00:06\n",
      "   ---------------------------- ----------- 105.6/150.0 MB 8.4 MB/s eta 0:00:06\n",
      "   ---------------------------- ----------- 107.7/150.0 MB 8.4 MB/s eta 0:00:06\n",
      "   ----------------------------- ---------- 109.8/150.0 MB 8.4 MB/s eta 0:00:05\n",
      "   ----------------------------- ---------- 111.9/150.0 MB 8.5 MB/s eta 0:00:05\n",
      "   ------------------------------ --------- 114.0/150.0 MB 8.5 MB/s eta 0:00:05\n",
      "   ------------------------------ --------- 115.9/150.0 MB 8.5 MB/s eta 0:00:05\n",
      "   ------------------------------- -------- 118.2/150.0 MB 8.5 MB/s eta 0:00:04\n",
      "   -------------------------------- ------- 120.1/150.0 MB 8.5 MB/s eta 0:00:04\n",
      "   -------------------------------- ------- 122.2/150.0 MB 8.6 MB/s eta 0:00:04\n",
      "   --------------------------------- ------ 124.0/150.0 MB 8.6 MB/s eta 0:00:04\n",
      "   --------------------------------- ------ 126.1/150.0 MB 8.6 MB/s eta 0:00:03\n",
      "   ---------------------------------- ----- 127.9/150.0 MB 8.6 MB/s eta 0:00:03\n",
      "   ---------------------------------- ----- 129.2/150.0 MB 8.6 MB/s eta 0:00:03\n",
      "   ---------------------------------- ----- 130.0/150.0 MB 8.5 MB/s eta 0:00:03\n",
      "   ---------------------------------- ----- 130.5/150.0 MB 8.4 MB/s eta 0:00:03\n",
      "   ---------------------------------- ----- 131.1/150.0 MB 8.4 MB/s eta 0:00:03\n",
      "   ----------------------------------- ---- 131.9/150.0 MB 8.3 MB/s eta 0:00:03\n",
      "   ----------------------------------- ---- 132.6/150.0 MB 8.2 MB/s eta 0:00:03\n",
      "   ----------------------------------- ---- 133.7/150.0 MB 8.1 MB/s eta 0:00:02\n",
      "   ----------------------------------- ---- 134.5/150.0 MB 8.1 MB/s eta 0:00:02\n",
      "   ------------------------------------ --- 135.8/150.0 MB 8.1 MB/s eta 0:00:02\n",
      "   ------------------------------------ --- 136.8/150.0 MB 8.0 MB/s eta 0:00:02\n",
      "   ------------------------------------ --- 138.1/150.0 MB 8.0 MB/s eta 0:00:02\n",
      "   ------------------------------------- -- 139.5/150.0 MB 8.0 MB/s eta 0:00:02\n",
      "   ------------------------------------- -- 140.8/150.0 MB 7.9 MB/s eta 0:00:02\n",
      "   ------------------------------------- -- 142.1/150.0 MB 7.9 MB/s eta 0:00:01\n",
      "   -------------------------------------- - 143.7/150.0 MB 7.9 MB/s eta 0:00:01\n",
      "   -------------------------------------- - 145.2/150.0 MB 7.9 MB/s eta 0:00:01\n",
      "   ---------------------------------------  146.8/150.0 MB 7.9 MB/s eta 0:00:01\n",
      "   ---------------------------------------  148.4/150.0 MB 7.9 MB/s eta 0:00:01\n",
      "   ---------------------------------------  149.9/150.0 MB 7.9 MB/s eta 0:00:01\n",
      "   ---------------------------------------  149.9/150.0 MB 7.9 MB/s eta 0:00:01\n",
      "   ---------------------------------------- 150.0/150.0 MB 7.8 MB/s eta 0:00:00\n",
      "Installing collected packages: xgboost\n",
      "Successfully installed xgboost-3.0.0\n",
      "Note: you may need to restart the kernel to use updated packages.\n"
     ]
    }
   ],
   "source": [
    "%pip install xgboost\n"
   ]
  },
  {
   "cell_type": "code",
   "execution_count": 12,
   "id": "6f8ab953-35de-4e8f-8e91-6036ea9e6cc1",
   "metadata": {},
   "outputs": [],
   "source": [
    "import pandas as pd \n",
    "import numpy as np \n",
    "import matplotlib.pyplot as plt \n",
    "import seaborn as sns\n",
    "from sklearn.model_selection import train_test_split\n",
    "from xgboost import XGBRegressor\n",
    "from sklearn import metrics"
   ]
  },
  {
   "cell_type": "code",
   "execution_count": 14,
   "id": "ba3dacb7-e3d9-4c20-9dea-383be9b6318b",
   "metadata": {},
   "outputs": [],
   "source": [
    "calories=pd.read_csv('calories.csv')\n",
    "exercise=pd.read_csv('exercise.csv')"
   ]
  },
  {
   "cell_type": "code",
   "execution_count": 16,
   "id": "cec0032f-3a1f-4f2a-821c-62f7958d9f18",
   "metadata": {},
   "outputs": [
    {
     "data": {
      "text/html": [
       "<div>\n",
       "<style scoped>\n",
       "    .dataframe tbody tr th:only-of-type {\n",
       "        vertical-align: middle;\n",
       "    }\n",
       "\n",
       "    .dataframe tbody tr th {\n",
       "        vertical-align: top;\n",
       "    }\n",
       "\n",
       "    .dataframe thead th {\n",
       "        text-align: right;\n",
       "    }\n",
       "</style>\n",
       "<table border=\"1\" class=\"dataframe\">\n",
       "  <thead>\n",
       "    <tr style=\"text-align: right;\">\n",
       "      <th></th>\n",
       "      <th>User_ID</th>\n",
       "      <th>Calories</th>\n",
       "    </tr>\n",
       "  </thead>\n",
       "  <tbody>\n",
       "    <tr>\n",
       "      <th>0</th>\n",
       "      <td>14733363</td>\n",
       "      <td>231.0</td>\n",
       "    </tr>\n",
       "    <tr>\n",
       "      <th>1</th>\n",
       "      <td>14861698</td>\n",
       "      <td>66.0</td>\n",
       "    </tr>\n",
       "    <tr>\n",
       "      <th>2</th>\n",
       "      <td>11179863</td>\n",
       "      <td>26.0</td>\n",
       "    </tr>\n",
       "    <tr>\n",
       "      <th>3</th>\n",
       "      <td>16180408</td>\n",
       "      <td>71.0</td>\n",
       "    </tr>\n",
       "    <tr>\n",
       "      <th>4</th>\n",
       "      <td>17771927</td>\n",
       "      <td>35.0</td>\n",
       "    </tr>\n",
       "  </tbody>\n",
       "</table>\n",
       "</div>"
      ],
      "text/plain": [
       "    User_ID  Calories\n",
       "0  14733363     231.0\n",
       "1  14861698      66.0\n",
       "2  11179863      26.0\n",
       "3  16180408      71.0\n",
       "4  17771927      35.0"
      ]
     },
     "execution_count": 16,
     "metadata": {},
     "output_type": "execute_result"
    }
   ],
   "source": [
    "calories.head()"
   ]
  },
  {
   "cell_type": "code",
   "execution_count": 18,
   "id": "7a1e93a1-8ca6-43d9-b21a-323c0330d19b",
   "metadata": {},
   "outputs": [
    {
     "data": {
      "text/html": [
       "<div>\n",
       "<style scoped>\n",
       "    .dataframe tbody tr th:only-of-type {\n",
       "        vertical-align: middle;\n",
       "    }\n",
       "\n",
       "    .dataframe tbody tr th {\n",
       "        vertical-align: top;\n",
       "    }\n",
       "\n",
       "    .dataframe thead th {\n",
       "        text-align: right;\n",
       "    }\n",
       "</style>\n",
       "<table border=\"1\" class=\"dataframe\">\n",
       "  <thead>\n",
       "    <tr style=\"text-align: right;\">\n",
       "      <th></th>\n",
       "      <th>User_ID</th>\n",
       "      <th>Gender</th>\n",
       "      <th>Age</th>\n",
       "      <th>Height</th>\n",
       "      <th>Weight</th>\n",
       "      <th>Duration</th>\n",
       "      <th>Heart_Rate</th>\n",
       "      <th>Body_Temp</th>\n",
       "    </tr>\n",
       "  </thead>\n",
       "  <tbody>\n",
       "    <tr>\n",
       "      <th>0</th>\n",
       "      <td>14733363</td>\n",
       "      <td>male</td>\n",
       "      <td>68</td>\n",
       "      <td>190.0</td>\n",
       "      <td>94.0</td>\n",
       "      <td>29.0</td>\n",
       "      <td>105.0</td>\n",
       "      <td>40.8</td>\n",
       "    </tr>\n",
       "    <tr>\n",
       "      <th>1</th>\n",
       "      <td>14861698</td>\n",
       "      <td>female</td>\n",
       "      <td>20</td>\n",
       "      <td>166.0</td>\n",
       "      <td>60.0</td>\n",
       "      <td>14.0</td>\n",
       "      <td>94.0</td>\n",
       "      <td>40.3</td>\n",
       "    </tr>\n",
       "    <tr>\n",
       "      <th>2</th>\n",
       "      <td>11179863</td>\n",
       "      <td>male</td>\n",
       "      <td>69</td>\n",
       "      <td>179.0</td>\n",
       "      <td>79.0</td>\n",
       "      <td>5.0</td>\n",
       "      <td>88.0</td>\n",
       "      <td>38.7</td>\n",
       "    </tr>\n",
       "    <tr>\n",
       "      <th>3</th>\n",
       "      <td>16180408</td>\n",
       "      <td>female</td>\n",
       "      <td>34</td>\n",
       "      <td>179.0</td>\n",
       "      <td>71.0</td>\n",
       "      <td>13.0</td>\n",
       "      <td>100.0</td>\n",
       "      <td>40.5</td>\n",
       "    </tr>\n",
       "    <tr>\n",
       "      <th>4</th>\n",
       "      <td>17771927</td>\n",
       "      <td>female</td>\n",
       "      <td>27</td>\n",
       "      <td>154.0</td>\n",
       "      <td>58.0</td>\n",
       "      <td>10.0</td>\n",
       "      <td>81.0</td>\n",
       "      <td>39.8</td>\n",
       "    </tr>\n",
       "  </tbody>\n",
       "</table>\n",
       "</div>"
      ],
      "text/plain": [
       "    User_ID  Gender  Age  Height  Weight  Duration  Heart_Rate  Body_Temp\n",
       "0  14733363    male   68   190.0    94.0      29.0       105.0       40.8\n",
       "1  14861698  female   20   166.0    60.0      14.0        94.0       40.3\n",
       "2  11179863    male   69   179.0    79.0       5.0        88.0       38.7\n",
       "3  16180408  female   34   179.0    71.0      13.0       100.0       40.5\n",
       "4  17771927  female   27   154.0    58.0      10.0        81.0       39.8"
      ]
     },
     "execution_count": 18,
     "metadata": {},
     "output_type": "execute_result"
    }
   ],
   "source": [
    "exercise.head()"
   ]
  },
  {
   "cell_type": "code",
   "execution_count": 30,
   "id": "79df92d2-d008-4a60-843f-4df55b4c0cdb",
   "metadata": {},
   "outputs": [],
   "source": [
    "calories_data = pd.concat([exercise, calories['Calories']], axis=1)"
   ]
  },
  {
   "cell_type": "code",
   "execution_count": 36,
   "id": "7db66052-4856-443b-9179-c6a5ce82bf60",
   "metadata": {},
   "outputs": [
    {
     "data": {
      "text/html": [
       "<div>\n",
       "<style scoped>\n",
       "    .dataframe tbody tr th:only-of-type {\n",
       "        vertical-align: middle;\n",
       "    }\n",
       "\n",
       "    .dataframe tbody tr th {\n",
       "        vertical-align: top;\n",
       "    }\n",
       "\n",
       "    .dataframe thead th {\n",
       "        text-align: right;\n",
       "    }\n",
       "</style>\n",
       "<table border=\"1\" class=\"dataframe\">\n",
       "  <thead>\n",
       "    <tr style=\"text-align: right;\">\n",
       "      <th></th>\n",
       "      <th>User_ID</th>\n",
       "      <th>Gender</th>\n",
       "      <th>Age</th>\n",
       "      <th>Height</th>\n",
       "      <th>Weight</th>\n",
       "      <th>Duration</th>\n",
       "      <th>Heart_Rate</th>\n",
       "      <th>Body_Temp</th>\n",
       "      <th>Calories</th>\n",
       "    </tr>\n",
       "  </thead>\n",
       "  <tbody>\n",
       "    <tr>\n",
       "      <th>0</th>\n",
       "      <td>14733363</td>\n",
       "      <td>male</td>\n",
       "      <td>68</td>\n",
       "      <td>190.0</td>\n",
       "      <td>94.0</td>\n",
       "      <td>29.0</td>\n",
       "      <td>105.0</td>\n",
       "      <td>40.8</td>\n",
       "      <td>231.0</td>\n",
       "    </tr>\n",
       "    <tr>\n",
       "      <th>1</th>\n",
       "      <td>14861698</td>\n",
       "      <td>female</td>\n",
       "      <td>20</td>\n",
       "      <td>166.0</td>\n",
       "      <td>60.0</td>\n",
       "      <td>14.0</td>\n",
       "      <td>94.0</td>\n",
       "      <td>40.3</td>\n",
       "      <td>66.0</td>\n",
       "    </tr>\n",
       "    <tr>\n",
       "      <th>2</th>\n",
       "      <td>11179863</td>\n",
       "      <td>male</td>\n",
       "      <td>69</td>\n",
       "      <td>179.0</td>\n",
       "      <td>79.0</td>\n",
       "      <td>5.0</td>\n",
       "      <td>88.0</td>\n",
       "      <td>38.7</td>\n",
       "      <td>26.0</td>\n",
       "    </tr>\n",
       "    <tr>\n",
       "      <th>3</th>\n",
       "      <td>16180408</td>\n",
       "      <td>female</td>\n",
       "      <td>34</td>\n",
       "      <td>179.0</td>\n",
       "      <td>71.0</td>\n",
       "      <td>13.0</td>\n",
       "      <td>100.0</td>\n",
       "      <td>40.5</td>\n",
       "      <td>71.0</td>\n",
       "    </tr>\n",
       "    <tr>\n",
       "      <th>4</th>\n",
       "      <td>17771927</td>\n",
       "      <td>female</td>\n",
       "      <td>27</td>\n",
       "      <td>154.0</td>\n",
       "      <td>58.0</td>\n",
       "      <td>10.0</td>\n",
       "      <td>81.0</td>\n",
       "      <td>39.8</td>\n",
       "      <td>35.0</td>\n",
       "    </tr>\n",
       "  </tbody>\n",
       "</table>\n",
       "</div>"
      ],
      "text/plain": [
       "    User_ID  Gender  Age  Height  Weight  Duration  Heart_Rate  Body_Temp  \\\n",
       "0  14733363    male   68   190.0    94.0      29.0       105.0       40.8   \n",
       "1  14861698  female   20   166.0    60.0      14.0        94.0       40.3   \n",
       "2  11179863    male   69   179.0    79.0       5.0        88.0       38.7   \n",
       "3  16180408  female   34   179.0    71.0      13.0       100.0       40.5   \n",
       "4  17771927  female   27   154.0    58.0      10.0        81.0       39.8   \n",
       "\n",
       "   Calories  \n",
       "0     231.0  \n",
       "1      66.0  \n",
       "2      26.0  \n",
       "3      71.0  \n",
       "4      35.0  "
      ]
     },
     "execution_count": 36,
     "metadata": {},
     "output_type": "execute_result"
    }
   ],
   "source": [
    "calories_data.head()"
   ]
  },
  {
   "cell_type": "code",
   "execution_count": 34,
   "id": "b277dc5d-5309-487f-8121-94e8c2bd2142",
   "metadata": {},
   "outputs": [
    {
     "data": {
      "text/plain": [
       "(15000, 9)"
      ]
     },
     "execution_count": 34,
     "metadata": {},
     "output_type": "execute_result"
    }
   ],
   "source": [
    "# checking the number of rows and columns\n",
    "calories_data.shape"
   ]
  },
  {
   "cell_type": "code",
   "execution_count": 32,
   "id": "178e8afc-17cf-43b4-b9a8-90f9d87ca4ee",
   "metadata": {},
   "outputs": [
    {
     "name": "stdout",
     "output_type": "stream",
     "text": [
      "<class 'pandas.core.frame.DataFrame'>\n",
      "RangeIndex: 15000 entries, 0 to 14999\n",
      "Data columns (total 9 columns):\n",
      " #   Column      Non-Null Count  Dtype  \n",
      "---  ------      --------------  -----  \n",
      " 0   User_ID     15000 non-null  int64  \n",
      " 1   Gender      15000 non-null  object \n",
      " 2   Age         15000 non-null  int64  \n",
      " 3   Height      15000 non-null  float64\n",
      " 4   Weight      15000 non-null  float64\n",
      " 5   Duration    15000 non-null  float64\n",
      " 6   Heart_Rate  15000 non-null  float64\n",
      " 7   Body_Temp   15000 non-null  float64\n",
      " 8   Calories    15000 non-null  float64\n",
      "dtypes: float64(6), int64(2), object(1)\n",
      "memory usage: 1.0+ MB\n"
     ]
    }
   ],
   "source": [
    "# getting some informations about the data\n",
    "calories_data.info()"
   ]
  },
  {
   "cell_type": "code",
   "execution_count": 42,
   "id": "09e39cc3-f644-4d40-8a1a-b20b6e55aa65",
   "metadata": {},
   "outputs": [
    {
     "data": {
      "text/plain": [
       "User_ID       0\n",
       "Gender        0\n",
       "Age           0\n",
       "Height        0\n",
       "Weight        0\n",
       "Duration      0\n",
       "Heart_Rate    0\n",
       "Body_Temp     0\n",
       "Calories      0\n",
       "dtype: int64"
      ]
     },
     "execution_count": 42,
     "metadata": {},
     "output_type": "execute_result"
    }
   ],
   "source": [
    "calories_data.isnull().sum()"
   ]
  },
  {
   "cell_type": "code",
   "execution_count": 44,
   "id": "fab5eb69-ab3a-4558-8593-e70e5affa1f6",
   "metadata": {},
   "outputs": [
    {
     "data": {
      "text/html": [
       "<div>\n",
       "<style scoped>\n",
       "    .dataframe tbody tr th:only-of-type {\n",
       "        vertical-align: middle;\n",
       "    }\n",
       "\n",
       "    .dataframe tbody tr th {\n",
       "        vertical-align: top;\n",
       "    }\n",
       "\n",
       "    .dataframe thead th {\n",
       "        text-align: right;\n",
       "    }\n",
       "</style>\n",
       "<table border=\"1\" class=\"dataframe\">\n",
       "  <thead>\n",
       "    <tr style=\"text-align: right;\">\n",
       "      <th></th>\n",
       "      <th>User_ID</th>\n",
       "      <th>Age</th>\n",
       "      <th>Height</th>\n",
       "      <th>Weight</th>\n",
       "      <th>Duration</th>\n",
       "      <th>Heart_Rate</th>\n",
       "      <th>Body_Temp</th>\n",
       "      <th>Calories</th>\n",
       "    </tr>\n",
       "  </thead>\n",
       "  <tbody>\n",
       "    <tr>\n",
       "      <th>count</th>\n",
       "      <td>1.500000e+04</td>\n",
       "      <td>15000.000000</td>\n",
       "      <td>15000.000000</td>\n",
       "      <td>15000.000000</td>\n",
       "      <td>15000.000000</td>\n",
       "      <td>15000.000000</td>\n",
       "      <td>15000.000000</td>\n",
       "      <td>15000.000000</td>\n",
       "    </tr>\n",
       "    <tr>\n",
       "      <th>mean</th>\n",
       "      <td>1.497736e+07</td>\n",
       "      <td>42.789800</td>\n",
       "      <td>174.465133</td>\n",
       "      <td>74.966867</td>\n",
       "      <td>15.530600</td>\n",
       "      <td>95.518533</td>\n",
       "      <td>40.025453</td>\n",
       "      <td>89.539533</td>\n",
       "    </tr>\n",
       "    <tr>\n",
       "      <th>std</th>\n",
       "      <td>2.872851e+06</td>\n",
       "      <td>16.980264</td>\n",
       "      <td>14.258114</td>\n",
       "      <td>15.035657</td>\n",
       "      <td>8.319203</td>\n",
       "      <td>9.583328</td>\n",
       "      <td>0.779230</td>\n",
       "      <td>62.456978</td>\n",
       "    </tr>\n",
       "    <tr>\n",
       "      <th>min</th>\n",
       "      <td>1.000116e+07</td>\n",
       "      <td>20.000000</td>\n",
       "      <td>123.000000</td>\n",
       "      <td>36.000000</td>\n",
       "      <td>1.000000</td>\n",
       "      <td>67.000000</td>\n",
       "      <td>37.100000</td>\n",
       "      <td>1.000000</td>\n",
       "    </tr>\n",
       "    <tr>\n",
       "      <th>25%</th>\n",
       "      <td>1.247419e+07</td>\n",
       "      <td>28.000000</td>\n",
       "      <td>164.000000</td>\n",
       "      <td>63.000000</td>\n",
       "      <td>8.000000</td>\n",
       "      <td>88.000000</td>\n",
       "      <td>39.600000</td>\n",
       "      <td>35.000000</td>\n",
       "    </tr>\n",
       "    <tr>\n",
       "      <th>50%</th>\n",
       "      <td>1.499728e+07</td>\n",
       "      <td>39.000000</td>\n",
       "      <td>175.000000</td>\n",
       "      <td>74.000000</td>\n",
       "      <td>16.000000</td>\n",
       "      <td>96.000000</td>\n",
       "      <td>40.200000</td>\n",
       "      <td>79.000000</td>\n",
       "    </tr>\n",
       "    <tr>\n",
       "      <th>75%</th>\n",
       "      <td>1.744928e+07</td>\n",
       "      <td>56.000000</td>\n",
       "      <td>185.000000</td>\n",
       "      <td>87.000000</td>\n",
       "      <td>23.000000</td>\n",
       "      <td>103.000000</td>\n",
       "      <td>40.600000</td>\n",
       "      <td>138.000000</td>\n",
       "    </tr>\n",
       "    <tr>\n",
       "      <th>max</th>\n",
       "      <td>1.999965e+07</td>\n",
       "      <td>79.000000</td>\n",
       "      <td>222.000000</td>\n",
       "      <td>132.000000</td>\n",
       "      <td>30.000000</td>\n",
       "      <td>128.000000</td>\n",
       "      <td>41.500000</td>\n",
       "      <td>314.000000</td>\n",
       "    </tr>\n",
       "  </tbody>\n",
       "</table>\n",
       "</div>"
      ],
      "text/plain": [
       "            User_ID           Age        Height        Weight      Duration  \\\n",
       "count  1.500000e+04  15000.000000  15000.000000  15000.000000  15000.000000   \n",
       "mean   1.497736e+07     42.789800    174.465133     74.966867     15.530600   \n",
       "std    2.872851e+06     16.980264     14.258114     15.035657      8.319203   \n",
       "min    1.000116e+07     20.000000    123.000000     36.000000      1.000000   \n",
       "25%    1.247419e+07     28.000000    164.000000     63.000000      8.000000   \n",
       "50%    1.499728e+07     39.000000    175.000000     74.000000     16.000000   \n",
       "75%    1.744928e+07     56.000000    185.000000     87.000000     23.000000   \n",
       "max    1.999965e+07     79.000000    222.000000    132.000000     30.000000   \n",
       "\n",
       "         Heart_Rate     Body_Temp      Calories  \n",
       "count  15000.000000  15000.000000  15000.000000  \n",
       "mean      95.518533     40.025453     89.539533  \n",
       "std        9.583328      0.779230     62.456978  \n",
       "min       67.000000     37.100000      1.000000  \n",
       "25%       88.000000     39.600000     35.000000  \n",
       "50%       96.000000     40.200000     79.000000  \n",
       "75%      103.000000     40.600000    138.000000  \n",
       "max      128.000000     41.500000    314.000000  "
      ]
     },
     "execution_count": 44,
     "metadata": {},
     "output_type": "execute_result"
    }
   ],
   "source": [
    "calories_data.describe()"
   ]
  },
  {
   "cell_type": "code",
   "execution_count": 46,
   "id": "5aa0b109-0117-4cd4-b8f8-471c2713b63e",
   "metadata": {},
   "outputs": [],
   "source": [
    "sns.set()"
   ]
  },
  {
   "cell_type": "code",
   "execution_count": 54,
   "id": "ca72e50e-1ccb-405e-8f5a-7b2537c42399",
   "metadata": {},
   "outputs": [
    {
     "data": {
      "text/plain": [
       "<Axes: xlabel='Gender', ylabel='count'>"
      ]
     },
     "execution_count": 54,
     "metadata": {},
     "output_type": "execute_result"
    },
    {
     "data": {
      "image/png": "[encoded data removed]",
      "text/plain": [
       "<Figure size 640x480 with 1 Axes>"
      ]
     },
     "metadata": {},
     "output_type": "display_data"
    }
   ],
   "source": [
    "sns.countplot(data=calories_data, x='Gender', color='skyblue')\n"
   ]
  },
  {
   "cell_type": "code",
   "execution_count": 56,
   "id": "6d641258-c966-454b-bb04-0b56d89cd968",
   "metadata": {},
   "outputs": [
    {
     "data": {
      "text/plain": [
       "<seaborn.axisgrid.FacetGrid at 0x238c5212d80>"
      ]
     },
     "execution_count": 56,
     "metadata": {},
     "output_type": "execute_result"
    },
    {
     "data": {
      "image/png": "[encoded data removed]",
      "text/plain": [
       "<Figure size 500x500 with 1 Axes>"
      ]
     },
     "metadata": {},
     "output_type": "display_data"
    }
   ],
   "source": [
    "sns.displot(calories_data['Age'])"
   ]
  },
  {
   "cell_type": "code",
   "execution_count": 58,
   "id": "c9324df6-f291-4c58-a06e-61835525c220",
   "metadata": {},
   "outputs": [
    {
     "name": "stderr",
     "output_type": "stream",
     "text": [
      "C:\\Users\\fakee\\AppData\\Local\\Temp\\ipykernel_356\\784960979.py:2: UserWarning: \n",
      "\n",
      "`distplot` is a deprecated function and will be removed in seaborn v0.14.0.\n",
      "\n",
      "Please adapt your code to use either `displot` (a figure-level function with\n",
      "similar flexibility) or `histplot` (an axes-level function for histograms).\n",
      "\n",
      "For a guide to updating your code to use the new functions, please see\n",
      "https://gist.github.com/mwaskom/de44147ed2974457ad6372750bbe5751\n",
      "\n",
      "  sns.distplot(calories_data['Height'])\n"
     ]
    },
    {
     "data": {
      "text/plain": [
       "<Axes: xlabel='Height', ylabel='Density'>"
      ]
     },
     "execution_count": 58,
     "metadata": {},
     "output_type": "execute_result"
    },
    {
     "data": {
      "image/png": "[encoded data removed]",
      "text/plain": [
       "<Figure size 640x480 with 1 Axes>"
      ]
     },
     "metadata": {},
     "output_type": "display_data"
    }
   ],
   "source": [
    "# finding the distribution of \"Height\" column\n",
    "sns.distplot(calories_data['Height'])"
   ]
  },
  {
   "cell_type": "code",
   "execution_count": null,
   "id": "ff9aabd5-8aa7-4464-aa93-12d1c4abcc52",
   "metadata": {},
   "outputs": [],
   "source": []
  }
 ],
 "metadata": {
  "kernelspec": {
   "display_name": "Python 3 (ipykernel)",
   "language": "python",
   "name": "python3"
  },
  "language_info": {
   "codemirror_mode": {
    "name": "ipython",
    "version": 3
   },
   "file_extension": ".py",
   "mimetype": "text/x-python",
   "name": "python",
   "nbconvert_exporter": "python",
   "pygments_lexer": "ipython3",
   "version": "3.12.3"
  }
 },
 "nbformat": 4,
 "nbformat_minor": 5
}
